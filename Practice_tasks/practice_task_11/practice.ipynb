{
  "nbformat": 4,
  "nbformat_minor": 0,
  "metadata": {
    "colab": {
      "provenance": []
    },
    "kernelspec": {
      "name": "python3",
      "display_name": "Python 3"
    },
    "language_info": {
      "name": "python"
    }
  },
  "cells": [
    {
      "cell_type": "markdown",
      "source": [
        "# **Практическая работа №11. Введение в ООП**\n",
        "\n",
        "\n"
      ],
      "metadata": {
        "id": "s-EuQCpnWXCn"
      }
    },
    {
      "cell_type": "markdown",
      "source": [
        "## **Задание 1. Напишите программу с классом Car**\n",
        "* Создайте конструктор класса Car.\n",
        "* Создайте атрибуты класса Car — color (цвет), type (тип), year (год).\n",
        "* Напишите пять методов:\n",
        "> 1. Запуск автомобиля (при его вызове выводится сообщение «Автомобиль заведен»)\n",
        "> 2. Отключение автомобиля (выводит сообщение «Автомобиль заглушен»)\n",
        "> 3. Присвоение автомобилю года выпуска\n",
        "> 4. Присвоение автомобилю типа\n",
        "> 5. Присвоение автомобилю цвета"
      ],
      "metadata": {
        "id": "OvDnozzI-g-6"
      }
    },
    {
      "cell_type": "code",
      "source": [
        "\n",
        "class Car:\n",
        "  def __init__(self, color: str, type: str, year: int):\n",
        "    self.color, self.type, self.year = color, type, year\n",
        "\n",
        "  def launch(self):\n",
        "    print(\"Автомобиль заведен\")\n",
        "\n",
        "  def stop(self):\n",
        "    print(\"Автомобиль заглушен\")\n",
        "\n",
        "  def set_year(self, new_year: int):\n",
        "    self.year = new_year\n",
        "\n",
        "  def set_type(self, new_type: str):\n",
        "    self.type = new_type\n",
        "\n",
        "  def set_color(self, new_color: str):\n",
        "    self.color = new_color\n",
        "\n",
        "if __name__ == \"__main__\":\n",
        "  car = Car(\"white\", \"BMW\", 2000)\n",
        "  car.launch()\n",
        "  car.stop()\n",
        "  car.set_year(2005)\n",
        "  car.set_type(\"Porshe\")\n",
        "  car.set_color(\"black\")"
      ],
      "metadata": {
        "id": "xMYBjxjy-hIE",
        "colab": {
          "base_uri": "https://localhost:8080/"
        },
        "outputId": "c99aa584-d17a-4045-9b47-6c0e5cac7776"
      },
      "execution_count": null,
      "outputs": [
        {
          "output_type": "stream",
          "name": "stdout",
          "text": [
            "Автомобиль заведен\n",
            "Автомобиль заглушен\n"
          ]
        }
      ]
    },
    {
      "cell_type": "markdown",
      "source": [
        "## **Задание 2. Создайте класс Sphere для представления сферы в трехмерном пространстве**\n"
      ],
      "metadata": {
        "id": "TQ5SpdjdbD4D"
      }
    },
    {
      "cell_type": "markdown",
      "source": [
        "Обеспечьте следующие методы класса:\n",
        "\n",
        "1. Конструктор, принимающий 4 действительных числа: радиус, и 3 координаты центра шара. Если конструктор вызывается без аргументов, создать объект сферы с единичным радиусом и центром в начале координат. Если конструктор вызывается с аргументом, создать объект сферы с соответствующим радиусом и центром в начале координат.\n",
        "\n",
        "2. Метод get_volume (), который возвращает действительное число — объем шара, ограниченной текущей сферой.\n",
        "\n",
        "3. Метод get_square (), который возвращает действительное число — площадь внешней поверхности сферы.\n",
        "\n",
        "4. Метод get_radius (), который возвращает действительное число — радиус сферы.\n",
        "\n",
        "5. Метод get_center (), который возвращает тьюпл с 3 действительными числами — координатами центра сферы в том же порядке, в каком они задаются в конструкторе.\n",
        "\n",
        "6. Метод set_radius (r), который принимает 1 аргумент — действительное число, и меняет радиус текущей сферы, ничего не возвращая.\n",
        "\n",
        "7. Метод set_center (x, y, z), который принимает 3 аргумента — действительных числа, и меняет координаты центра сферы, ничего не возвращая. Координаты задаются в том же порядке, что и в конструкторе.\n",
        "\n",
        "8. Метод is_point_inside (x, y, z), который принимает 3 аргумента — действительных числа — координаты некоторой точки в пространстве (в том же порядке, что и в конструкторе), и возвращает логическое значение True или False в зависимости от того, находится эта точка внутри сферы."
      ],
      "metadata": {
        "id": "Q5Ow51wfASZH"
      }
    },
    {
      "cell_type": "code",
      "source": [
        "from math import pi\n",
        "\n",
        "class Sphere:\n",
        "  def __init__(self, r: float=1.0, x: float=0.0, y: float=0.0, z: float=0.0):\n",
        "    self.r, self.x, self.y, self.z = r, x, y, z\n",
        "\n",
        "  def get_volume(self) -> float:\n",
        "    return 4/3 * pi * self.r ** 3\n",
        "\n",
        "  def get_square(self) -> float:\n",
        "    return 4 * pi * self.r ** 2\n",
        "\n",
        "  def get_radius(self) -> float:\n",
        "    return self.r\n",
        "\n",
        "  def get_center(self) -> float:\n",
        "    return (self.x, self.y, self.z)\n",
        "\n",
        "  def set_radius(self, r: float):\n",
        "    self.r = r\n",
        "\n",
        "  def set_center(self, x: float, y: float, z: float):\n",
        "    self.x, self.y, self.z = x, y, z\n",
        "\n",
        "  def is_point_inside(self, x: float, y: float, z: float):\n",
        "    return self.x - self.r <= x <= self.x + self.r and self.y - self.r <= y <= self.y + self.r and self.z - self.r <= z <= self.z + self.r\n",
        "\n",
        "if __name__ == \"__main__\":\n",
        "  s0 = Sphere(0.5) # test sphere creation with radius and default center\n",
        "  print(s0.get_center()) # (0.0, 0.0, 0.0)\n",
        "  print(s0.get_volume()) # 0.523598775598\n",
        "  print(s0.is_point_inside(0 , -1.5, 0)) # False\n",
        "  s0.set_radius(1.6)\n",
        "  print(s0.is_point_inside(0, -1.5, 0)) # True\n",
        "  print(s0.get_radius()) # 1.6"
      ],
      "metadata": {
        "id": "xYx3bR2Lbv42",
        "colab": {
          "base_uri": "https://localhost:8080/"
        },
        "outputId": "58803a60-5d24-4bd7-807e-b2b0de2b3217"
      },
      "execution_count": null,
      "outputs": [
        {
          "output_type": "stream",
          "name": "stdout",
          "text": [
            "(0.0, 0.0, 0.0)\n",
            "0.5235987755982988\n",
            "False\n",
            "True\n",
            "1.6\n"
          ]
        }
      ]
    },
    {
      "cell_type": "markdown",
      "source": [
        "## **Задание 3. Создайте класс SuperStr, который наследует функциональность стандартного типа str и содержит 2 новых метода:**"
      ],
      "metadata": {
        "id": "UuJ9K_zAcaY_"
      }
    },
    {
      "cell_type": "markdown",
      "source": [
        "1. Метод is_repeatance (s), который принимает 1 аргумент s и возвращает True или False в зависимости от того, может ли текущая строку быть получена целым количеством повторов строки s. Вернуть False, если s не является строкой. Считать, что пустая строка не содержит повторов.\n",
        "\n",
        "2. Метод is_palindrom (), который возвращает True или False в зависимости от того, является ли строка палиндромом. Регистрами символов пренебрегать. Пустую строку считать палиндромом."
      ],
      "metadata": {
        "id": "GX99X81VchPW"
      }
    },
    {
      "cell_type": "code",
      "source": [
        "class SuperStr(str):\n",
        "  def is_repeatance(self, s) -> bool:\n",
        "    if not isinstance(s, str):\n",
        "      return False\n",
        "    return self.count(s) * len(s) == len(self)\n",
        "\n",
        "  def is_palindrom(self) -> bool:\n",
        "    return self.lower() == self.lower()[::-1]\n",
        "\n",
        "\n",
        "if __name__ == \"__main__\":\n",
        "  s = SuperStr(\"123123123123\")\n",
        "  print(s.is_repeatance(\"123\")) # True\n",
        "  print(s.is_repeatance(\"123123\")) # True\n",
        "  print(s.is_repeatance(\"123123123123\")) # True\n",
        "  print(s.is_repeatance(\"12312\")) # False\n",
        "  print(s.is_repeatance(123)) # False\n",
        "  print(s.is_palindrom()) # False\n",
        "  print(s) # 123123123123 (строка)\n",
        "  print(int(s)) # 123123123123 (целое число)\n",
        "  print(s + \"qwe\") # 123123123123qwe\n",
        "  p = SuperStr(\"123_321\")\n",
        "  print(p.is_palindrom()) # True"
      ],
      "metadata": {
        "id": "oRO3alwicoNp",
        "colab": {
          "base_uri": "https://localhost:8080/"
        },
        "outputId": "032c2f0e-27b0-4840-dbaf-67ce16bb83a0"
      },
      "execution_count": null,
      "outputs": [
        {
          "output_type": "stream",
          "name": "stdout",
          "text": [
            "True\n",
            "True\n",
            "True\n",
            "False\n",
            "False\n",
            "False\n",
            "123123123123\n",
            "123123123123\n",
            "123123123123qwe\n",
            "True\n"
          ]
        }
      ]
    },
    {
      "cell_type": "markdown",
      "source": [
        "## **Задание 4. В коде ниже представлен класс преподавателей и класс студентов (вы можете взять этот код за основу или написать свой).**"
      ],
      "metadata": {
        "id": "m9EGwLY9jZbw"
      }
    },
    {
      "cell_type": "code",
      "source": [
        "class Student:\n",
        "    def __init__(self, name: str, surname: str, gender: str):\n",
        "        self.name,  self.surname, self.gender = name, surname, gender\n",
        "        self.finished_courses = []\n",
        "        self.courses_in_progress = []\n",
        "        self.grades = {}\n",
        "\n",
        "    def add_courses(self, course_name: str):\n",
        "        self.finished_courses.append(course_name)\n",
        "\n",
        "\n",
        "class Mentor:\n",
        "    def __init__(self, name: str, surname: str):\n",
        "        self.name, surname = name, surname\n",
        "        self.courses_attached = []\n",
        "\n",
        "    def rate_hw(self, student: Student, course: str, grade: int):\n",
        "        student.grades[course] = [grade]\n",
        "\n",
        "if __name__ == \"__main__\":\n",
        "  best_student = Student('Ruoy', 'Eman', 'your_gender')\n",
        "  cool_mentor = Mentor('Some', 'Buddy')\n",
        "  cool_mentor.rate_hw(best_student, 'Python', 10)\n",
        "\n",
        "  print(\"Имя студента: \", best_student.name)\n",
        "  print(\"Имя преподавателя: \", cool_mentor.name)\n",
        "  print(\"Оценки студента по курсам: \", best_student.grades)"
      ],
      "metadata": {
        "id": "PlqK9m7KrT6e",
        "colab": {
          "base_uri": "https://localhost:8080/"
        },
        "outputId": "b98f0643-fbd5-4420-f83d-3bcecf7bdbdc"
      },
      "execution_count": null,
      "outputs": [
        {
          "output_type": "stream",
          "name": "stdout",
          "text": [
            "Имя студента:  Ruoy\n",
            "Имя преподавателя:  Some\n",
            "Оценки студента по курсам:  {'Python': [10]}\n"
          ]
        }
      ]
    },
    {
      "cell_type": "markdown",
      "source": [
        "### **4.1. Наследование**"
      ],
      "metadata": {
        "id": "08FkYxULrxE-"
      }
    },
    {
      "cell_type": "markdown",
      "source": [
        "* Класс Mentor должен стать родительским классом для преподавателей. От него нужно реализовать наследование классов Lecturer (лекторы) и Reviewer (эксперты, проверяющие домашние задания).\n",
        "\n",
        "> Имя, фамилю и список закрепленных курсов логично реализовать на уровне родительского класса."
      ],
      "metadata": {
        "id": "YNjsCv5ItOii"
      }
    },
    {
      "cell_type": "code",
      "source": [
        "class Student:\n",
        "    def __init__(self, name: str, surname: str, gender: str):\n",
        "        self.name,  self.surname, self.gender = name, surname, gender\n",
        "        self.finished_courses = []\n",
        "        self.courses_in_progress = []\n",
        "        self.grades = {}\n",
        "\n",
        "    def add_courses(self, course_name: str):\n",
        "        self.finished_courses.append(course_name)\n",
        "\n",
        "\n",
        "class Mentor:\n",
        "    def __init__(self, name: str, surname: str):\n",
        "        self.name, surname = name, surname\n",
        "        self.courses_attached = []\n",
        "\n",
        "    def rate_hw(self, student: Student, course: str, grade: int):\n",
        "        student.grades[course] = [grade]\n",
        "\n",
        "class Lector(Mentor):\n",
        "  pass\n",
        "\n",
        "class Reviewer(Mentor):\n",
        "  pass\n",
        "\n",
        "if __name__ == \"__main__\":\n",
        "  best_student = Student('Ruoy', 'Eman', 'your_gender')\n",
        "  cool_mentor = Mentor('Some', 'Buddy')\n",
        "  cool_mentor.rate_hw(best_student, 'Python', 10)\n",
        "\n",
        "  print(\"Имя студента: \", best_student.name)\n",
        "  print(\"Имя преподавателя: \", cool_mentor.name)\n",
        "  print(\"Оценки студента по курсам: \", best_student.grades)"
      ],
      "metadata": {
        "id": "1quZPRZKtIoc"
      },
      "execution_count": null,
      "outputs": []
    },
    {
      "cell_type": "markdown",
      "source": [
        "### **4.2. Атрибуты и взаимодействие классов**"
      ],
      "metadata": {
        "id": "oL8kB-uUtH5K"
      }
    },
    {
      "cell_type": "markdown",
      "source": [
        "* Реализуйте возможность проставления оценок студентам только Reviewer-ам (реализуйте такой метод).\n",
        "\n",
        "* Реализуйте метод выставления оценок лекторам у класса Student (оценки по 10-балльной шкале, хранятся в атрибуте-словаре у Lecturer, в котором ключи – названия курсов, а значения – списки оценок). Лектор при этом должен быть закреплен за тем курсом, на который записан студент (реализовать проверку)."
      ],
      "metadata": {
        "id": "ddcuJFCksWsY"
      }
    },
    {
      "cell_type": "code",
      "source": [
        "class Student:\n",
        "    def __init__(self, name: str, surname: str, gender: str):\n",
        "        self.name, self.surname, self.gender = name, surname, gender\n",
        "        self.finished_courses = []\n",
        "        self.courses_in_progress = []\n",
        "        self.grades = {}\n",
        "\n",
        "    def add_courses(self, course_name: str):\n",
        "        self.finished_courses.append(course_name)\n",
        "\n",
        "    @property\n",
        "    def all_courses(self):\n",
        "        return self.courses_in_progress + self.finished_courses\n",
        "\n",
        "    def rate_lector(self, lector, course: str, rate: int):\n",
        "        if course not in self.all_courses:\n",
        "            return\n",
        "        if not lector.is_attached_cours(course):\n",
        "            return\n",
        "        lector.add_rate(course, rate)\n",
        "\n",
        "\n",
        "class Mentor:\n",
        "    def __init__(self, name: str, surname: str):\n",
        "        self.name, self.surname = name, surname\n",
        "        self.courses_attached = []\n",
        "\n",
        "    def is_attached_course(self, course: str) -> bool:\n",
        "        return course in self.courses_attached\n",
        "\n",
        "    def is_any_attached_course(self, courses: str) -> bool:\n",
        "        return any(list(map(lambda x: x in self.courses_attached, courses)))\n",
        "\n",
        "\n",
        "class Lector(Mentor):\n",
        "    def __init__(self, name: str, surname: str):\n",
        "        super().__init__(name, surname)\n",
        "        self.rating = {}\n",
        "\n",
        "    def add_rate(self, group: str, rate: str):\n",
        "        if group not in self.courses_attached:\n",
        "            return\n",
        "        if group in self.rating:\n",
        "            self.rating[group].append(rate)\n",
        "        else:\n",
        "            self.rating[group] = [rate]\n",
        "\n",
        "    @property\n",
        "    def avg_rate(self):\n",
        "        all_rating = [k for i in self.rating for k in self.rating[i]]\n",
        "        return sum(all_rating) / len(all_rating)\n",
        "\n",
        "\n",
        "class Reviewer(Mentor):\n",
        "    def rate_hw(self, student: Student, course: str, grade: int):\n",
        "        student.grades[course] = [grade]\n",
        "\n",
        "\n",
        "if __name__ == \"__main__\":\n",
        "    best_student = Student('Ruoy', 'Eman', 'your_gender')\n",
        "    cool_mentor = Mentor('Some', 'Buddy')\n",
        "\n",
        "    print(\"Имя студента: \", best_student.name)\n",
        "    print(\"Имя преподавателя: \", cool_mentor.name)\n",
        "    print(\"Оценки студента по курсам: \", best_student.grades)\n"
      ],
      "metadata": {
        "id": "U30yyvuirv6H",
        "colab": {
          "base_uri": "https://localhost:8080/"
        },
        "outputId": "fb6c72aa-9eb1-4793-dac2-8b7421ce4bae"
      },
      "execution_count": 1,
      "outputs": [
        {
          "output_type": "stream",
          "name": "stdout",
          "text": [
            "Имя студента:  Ruoy\n",
            "Имя преподавателя:  Some\n",
            "Оценки студента по курсам:  {}\n"
          ]
        }
      ]
    },
    {
      "cell_type": "markdown",
      "source": [
        "### **4.3. Полиморфизм и магические методы**"
      ],
      "metadata": {
        "id": "i6PrwEBSu39u"
      }
    },
    {
      "cell_type": "markdown",
      "source": [
        "Перегрузите магический метод \\_\\_str__ у всех классов.\n",
        "У проверяющих он должен выводить информацию в следующем виде:\n",
        "\n",
        "\n",
        "\n",
        "```\n",
        "print(some_reviewer)\n",
        "Имя: Some\n",
        "Фамилия: Buddy\n",
        "```\n",
        "\n",
        "У лекторов:\n",
        "\n",
        "\n",
        "\n",
        "```\n",
        "print(some_lecturer)\n",
        "Имя: Some\n",
        "Фамилия: Buddy\n",
        "Средняя оценка за лекции: 9.9\n",
        "```\n",
        "\n",
        "А у студентов так:\n",
        "\n",
        "\n",
        "\n",
        "```\n",
        "print(some_student)\n",
        "Имя: Ruoy\n",
        "Фамилия: Eman\n",
        "Средняя оценка за домашние задания: 9.9\n",
        "Курсы в процессе изучения: Python, Git\n",
        "Завершенные курсы: Введение в программирование\n",
        "```\n",
        "\n",
        "\n",
        "\n"
      ],
      "metadata": {
        "id": "GvmtjlnmvF8b"
      }
    },
    {
      "cell_type": "markdown",
      "source": [
        "**Реализуйте перегрузку других магических методов на Ваш выбор (не менее трёх), из тех, что были изучены на паре, руководствуясь по смыслу контекстом представленных классов (студенты, преподаватели, оценки и т.д.)**"
      ],
      "metadata": {
        "id": "1DNE4TE3vfYI"
      }
    },
    {
      "cell_type": "code",
      "source": [
        "class Mentor:\n",
        "    def __init__(self, name: str, surname: str):\n",
        "        self.name, self.surname = name, surname\n",
        "        self.courses_attached = []\n",
        "\n",
        "    def is_attached_course(self, course: str) -> bool:\n",
        "        return course in self.courses_attached\n",
        "\n",
        "    def is_any_attached_course(self, courses: str) -> bool:\n",
        "        return any(list(map(lambda x: x in self.courses_attached, courses)))\n",
        "\n",
        "    def added_courses(self, *courses):\n",
        "        self.courses_attached = list(set(self.courses_attached + list(courses)))\n",
        "\n",
        "\n",
        "class Lector(Mentor):\n",
        "    def __init__(self, name: str, surname: str):\n",
        "        super().__init__(name, surname)\n",
        "        self.rating = {}\n",
        "\n",
        "    def add_rate(self, group: str, rate: int):\n",
        "        if group not in self.courses_attached:\n",
        "            return\n",
        "        if group in self.rating:\n",
        "            self.rating[group].append(rate)\n",
        "        else:\n",
        "            self.rating[group] = [rate]\n",
        "\n",
        "    @property\n",
        "    def avg_rate(self):\n",
        "        all_rating = [k for i in self.rating for k in self.rating[i]]\n",
        "        if len(all_rating) == 0:\n",
        "            return 0\n",
        "        return sum(all_rating) / len(all_rating)\n",
        "\n",
        "    def __int__(self):\n",
        "        return self.avg_rate\n",
        "\n",
        "    def __str__(self):\n",
        "        return f\"Имя: {self.name}\\nФамилия: {self.surname}\\nСредняя оценка за лекции: {self.avg_rate}\"\n",
        "\n",
        "\n",
        "class Student:\n",
        "    def __init__(self, name: str, surname: str, gender: str):\n",
        "        self.name, self.surname, self.gender = name, surname, gender\n",
        "        self.finished_courses = []\n",
        "        self.courses_in_progress = []\n",
        "        self.grades = {}\n",
        "\n",
        "    def add_new_courses(self, *courses):\n",
        "        self.courses_in_progress = list(set(self.courses_in_progress + list(courses)))\n",
        "\n",
        "    @property\n",
        "    def all_courses(self):\n",
        "        return self.courses_in_progress + self.finished_courses\n",
        "\n",
        "    def rate_lector(self, lector: Lector, course: str, rate: int):\n",
        "        if course not in self.all_courses:\n",
        "            return\n",
        "        if not lector.is_attached_course(course):\n",
        "            return\n",
        "        lector.add_rate(course, rate)\n",
        "\n",
        "    @property\n",
        "    def avg_hometask_rate(self):\n",
        "        all_rate = [k for i in self.grades for k in self.grades[i]]\n",
        "        if len(all_rate) == 0:\n",
        "            return 0\n",
        "        return sum(all_rate) / len(all_rate)\n",
        "\n",
        "    def __int__(self):\n",
        "        return self.avg_hometask_rate\n",
        "\n",
        "    def __str__(self):\n",
        "        return (f\"Имя: {self.name}\\n\"\n",
        "                f\"Фамилия: {self.surname}\\n\"\n",
        "                f\"Средняя оценка за домашние задания: {self.avg_hometask_rate}\\n\"\n",
        "                f\"Курсы в процессе изучения: {\", \".join(self.courses_in_progress)}\\n\"\n",
        "                f\"Завершенные курсы: {\", \".join(self.finished_courses)}\")\n",
        "\n",
        "\n",
        "class Reviewer(Mentor):\n",
        "    def rate_homework(self, student: Student, course: str, grade: int):\n",
        "        if course not in self.courses_attached:\n",
        "            return\n",
        "        student.grades[course] = [grade]\n",
        "\n",
        "    def __str__(self):\n",
        "        return f\"Имя: {self.name}\\nФамилия: {self.surname}\"\n",
        "\n",
        "\n",
        "if __name__ == \"__main__\":\n",
        "    cool_mentor = Lector('Some', 'Buddy')\n",
        "    cool_mentor.added_courses(\"Python\", \"Java\", \"ML\", \"SQL\")\n",
        "\n",
        "    best_student = Student('Ruoy', 'Eman', 'man')\n",
        "    best_student.add_new_courses(\"Python\", \"SQL\")\n",
        "\n",
        "    best_student.rate_lector(cool_mentor, \"Python\", 10)\n",
        "\n",
        "    print(best_student)\n",
        "    print(\"-\" * 15)\n",
        "    print(cool_mentor)\n"
      ],
      "metadata": {
        "id": "WNCf9PPMu4Gv"
      },
      "execution_count": null,
      "outputs": []
    },
    {
      "cell_type": "markdown",
      "source": [
        "### **4.4. Тестирование**\n",
        "\n",
        "Создайте по 2 экземпляра каждого класса, вызовите все созданные методы, а также реализуйте две функции:\n",
        "\n",
        "* для подсчета средней оценки за домашние задания по всем студентам в рамках конкретного курса (в качестве аргументов принимаем список студентов и название курса);\n",
        "* для подсчета средней оценки за лекции всех лекторов в рамках курса (в качестве аргумента принимаем список лекторов и название курса)."
      ],
      "metadata": {
        "id": "X8xvLNT6u4Nn"
      }
    },
    {
      "cell_type": "code",
      "source": [
        "class Mentor:\n",
        "    def __init__(self, name: str, surname: str):\n",
        "        self.name, self.surname = name, surname\n",
        "        self.courses_attached = []\n",
        "\n",
        "    def is_attached_course(self, course: str) -> bool:\n",
        "        return course in self.courses_attached\n",
        "\n",
        "    def is_any_attached_course(self, courses: str) -> bool:\n",
        "        return any(list(map(lambda x: x in self.courses_attached, courses)))\n",
        "\n",
        "    def added_courses(self, *courses):\n",
        "        self.courses_attached = list(set(self.courses_attached + list(courses)))\n",
        "\n",
        "\n",
        "class Lector(Mentor):\n",
        "    def __init__(self, name: str, surname: str):\n",
        "        super().__init__(name, surname)\n",
        "        self.rating = {}\n",
        "\n",
        "    def add_rate(self, group: str, rate: int):\n",
        "        if group not in self.courses_attached:\n",
        "            return\n",
        "        if group in self.rating:\n",
        "            self.rating[group].append(rate)\n",
        "        else:\n",
        "            self.rating[group] = [rate]\n",
        "\n",
        "    @property\n",
        "    def avg_rate(self):\n",
        "        all_rating = [k for i in self.rating for k in self.rating[i]]\n",
        "        if len(all_rating) == 0:\n",
        "            return 0\n",
        "        return sum(all_rating) / len(all_rating)\n",
        "\n",
        "    def __int__(self):\n",
        "        return self.avg_rate\n",
        "\n",
        "    def __str__(self):\n",
        "        return f\"Имя: {self.name}\\nФамилия: {self.surname}\\nСредняя оценка за лекции: {self.avg_rate}\"\n",
        "\n",
        "\n",
        "class Student:\n",
        "    def __init__(self, name: str, surname: str, gender: str):\n",
        "        self.name, self.surname, self.gender = name, surname, gender\n",
        "        self.finished_courses = []\n",
        "        self.courses_in_progress = []\n",
        "        self.grades = {}\n",
        "\n",
        "    def add_new_courses(self, *courses):\n",
        "        self.courses_in_progress = list(set(self.courses_in_progress + list(courses)))\n",
        "\n",
        "    @property\n",
        "    def all_courses(self):\n",
        "        return self.courses_in_progress + self.finished_courses\n",
        "\n",
        "    def rate_lector(self, lector: Lector, course: str, rate: int):\n",
        "        if course not in self.all_courses:\n",
        "            return\n",
        "        if not lector.is_attached_course(course):\n",
        "            return\n",
        "        lector.add_rate(course, rate)\n",
        "\n",
        "    @property\n",
        "    def avg_hometask_rate(self):\n",
        "        all_rate = self.get_all_rate\n",
        "        if len(all_rate) == 0:\n",
        "            return 0\n",
        "        return sum(all_rate) / len(all_rate)\n",
        "\n",
        "    @property\n",
        "    def get_all_rate(self):\n",
        "        return [k for i in self.grades for k in self.grades[i]]\n",
        "\n",
        "    def __int__(self):\n",
        "        return self.avg_hometask_rate\n",
        "\n",
        "    def __str__(self):\n",
        "        courses_in_progress = \", \".join(self.courses_in_progress)\n",
        "        finished_courses = \", \".join(self.finished_courses)\n",
        "        return (f\"Имя: {self.name}\\n\"\n",
        "                f\"Фамилия: {self.surname}\\n\"\n",
        "                f\"Средняя оценка за домашние задания: {self.avg_hometask_rate}\\n\"\n",
        "                f\"Курсы в процессе изучения: {courses_in_progress}\\n\"\n",
        "                f\"Завершенные курсы: {finished_courses}\")\n",
        "\n",
        "\n",
        "class Reviewer(Mentor):\n",
        "    def rate_homework(self, student: Student, course: str, grade: int):\n",
        "        if course not in student.all_courses or course not in self.courses_attached:\n",
        "            return\n",
        "        student.grades[course] = [grade]\n",
        "\n",
        "    def __str__(self):\n",
        "        return f\"Имя: {self.name}\\nФамилия: {self.surname}\"\n",
        "\n",
        "\n",
        "def calc_avg_students_rate_group(students: list[Student], course: str):\n",
        "    rate_students = [\n",
        "        k for i in students if course in i.all_courses\n",
        "        for k in (i.grades[course] if course in i.grades else [])\n",
        "    ]\n",
        "    return sum(rate_students) / len(rate_students)\n",
        "\n",
        "\n",
        "def calc_avg_lectors_rate_group(lectors: list[Lector], course: str):\n",
        "    rate_lectors = [\n",
        "        k for i in lectors if course in i.courses_attached\n",
        "        for k in (i.rating[course] if course in i.rating else [])\n",
        "    ]\n",
        "    return sum(rate_lectors) / len(rate_lectors)\n",
        "\n",
        "\n",
        "if __name__ == \"__main__\":\n",
        "    cool_lector_1 = Lector('Some', 'Buddy')\n",
        "    cool_lector_1.added_courses(\"Python\", \"Java\", \"ML\", \"SQL\")\n",
        "    cool_lector_2 = Lector('Anna', 'Turing')\n",
        "    cool_lector_2.added_courses(\"Haskell\", \"Matlab\")\n",
        "\n",
        "    best_student_1 = Student('Ruoy', 'Eman', 'man')\n",
        "    best_student_1.add_new_courses(\"Python\", \"SQL\")\n",
        "    best_student_2 = Student('Jon', 'Smit', 'man')\n",
        "    best_student_2.add_new_courses(\"Haskell\", \"Python\")\n",
        "\n",
        "    cool_reviewer_1 = Reviewer(\"Nick\", \"Smith\")\n",
        "    cool_reviewer_1.added_courses(\"Python\")\n",
        "    cool_reviewer_2 = Reviewer(\"Adam\", \"Smith\")\n",
        "    cool_reviewer_2.added_courses(\"Python\")\n",
        "\n",
        "    best_student_1.rate_lector(cool_lector_1, \"Python\", 10)\n",
        "    best_student_2.rate_lector(cool_lector_2, \"Haskell\", 9)\n",
        "\n",
        "    cool_reviewer_1.rate_homework(best_student_1, \"Python\", 8)\n",
        "    cool_reviewer_1.rate_homework(best_student_2, \"Python\", 10)\n",
        "\n",
        "    cool_reviewer_2.rate_homework(best_student_1, \"SQL\", 9)\n",
        "    cool_reviewer_2.rate_homework(best_student_2, \"Haskell\", 7)\n",
        "\n",
        "    print(\n",
        "        f\"Students: \\n{best_student_1}\\n{best_student_2}\\n{'-' * 15}\\nLectors: \\n{cool_lector_1}\\n{cool_lector_2}\\n{'-' * 15}\\nReviewers: \\n{cool_reviewer_1}\\n{cool_reviewer_2}\"\n",
        "    )\n",
        "\n",
        "    print(\"-\" * 15)\n",
        "    print(f\"Средняя оценка студентов в группе Python: {calc_avg_students_rate_group([best_student_1, best_student_2], 'Python')}\")\n",
        "    print(f\"Средняя оценка лекций в группе Python: {calc_avg_lectors_rate_group([cool_lector_1, cool_lector_2], 'Python')}\")\n"
      ],
      "metadata": {
        "id": "uh8n08fdu4V_",
        "colab": {
          "base_uri": "https://localhost:8080/"
        },
        "outputId": "c429cdaf-4c4f-4527-e8c4-a37034e4e6fc"
      },
      "execution_count": 4,
      "outputs": [
        {
          "output_type": "stream",
          "name": "stdout",
          "text": [
            "Students: \n",
            "Имя: Ruoy\n",
            "Фамилия: Eman\n",
            "Средняя оценка за домашние задания: 8.0\n",
            "Курсы в процессе изучения: SQL, Python\n",
            "Завершенные курсы: \n",
            "Имя: Jon\n",
            "Фамилия: Smit\n",
            "Средняя оценка за домашние задания: 10.0\n",
            "Курсы в процессе изучения: Haskell, Python\n",
            "Завершенные курсы: \n",
            "---------------\n",
            "Lectors: \n",
            "Имя: Some\n",
            "Фамилия: Buddy\n",
            "Средняя оценка за лекции: 10.0\n",
            "Имя: Anna\n",
            "Фамилия: Turing\n",
            "Средняя оценка за лекции: 9.0\n",
            "---------------\n",
            "Reviewers: \n",
            "Имя: Nick\n",
            "Фамилия: Smith\n",
            "Имя: Adam\n",
            "Фамилия: Smith\n",
            "---------------\n",
            "Средняя оценка студентов в группе Python: 9.0\n",
            "Средняя оценка лекций в группе Python: 10.0\n"
          ]
        }
      ]
    }
  ]
}