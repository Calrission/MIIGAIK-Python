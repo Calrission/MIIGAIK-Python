{
  "nbformat": 4,
  "nbformat_minor": 0,
  "metadata": {
    "colab": {
      "provenance": [],
      "authorship_tag": "ABX9TyNv4+qiKglmzKDi4LtX9pu7",
      "include_colab_link": true
    },
    "kernelspec": {
      "name": "python3",
      "display_name": "Python 3"
    },
    "language_info": {
      "name": "python"
    }
  },
  "cells": [
    {
      "cell_type": "markdown",
      "metadata": {
        "id": "view-in-github",
        "colab_type": "text"
      },
      "source": [
        "<a href=\"https://colab.research.google.com/github/Calrission/MIIGAIK-Python/blob/master/%D0%B4%D0%BE%D0%BF%D0%BE%D0%BB%D0%BD%D0%B8%D1%82%D0%B5%D0%BB%D1%8C%D0%BD%D1%8B%D0%B5%20%D0%B7%D0%B0%D0%B4%D0%B0%D0%BD%D0%B8%D1%8F/Task_1.ipynb\" target=\"_parent\"><img src=\"https://colab.research.google.com/assets/colab-badge.svg\" alt=\"Open In Colab\"/></a>"
      ]
    },
    {
      "cell_type": "code",
      "execution_count": null,
      "metadata": {
        "colab": {
          "base_uri": "https://localhost:8080/"
        },
        "id": "mY18g0Y7_qYe",
        "outputId": "c44b723d-ae9b-42e8-a6d1-3a109eba29ee"
      },
      "outputs": [
        {
          "output_type": "stream",
          "name": "stdout",
          "text": [
            "Игра началась\n"
          ]
        }
      ],
      "source": [
        "from random import randint\n",
        "\n",
        "target_num = randint(0, 101)\n",
        "user_num = -1\n",
        "count = 0\n",
        "\n",
        "print(\"Игра началась\")\n",
        "\n",
        "while True:\n",
        "  user_line = input()\n",
        "  if user_line == \"Выход\":\n",
        "    break\n",
        "\n",
        "  try:\n",
        "    user_num = int(user_line)\n",
        "  except ValueError as e:\n",
        "    print(\"Вы ввели не число и не \\\"Выход\\\"\")\n",
        "    continue\n",
        "\n",
        "  count += 1\n",
        "\n",
        "  if user_num == target_num:\n",
        "    print(f\"Вы угадали число \\\"{target_num}\\\" за {count} попыток\")\n",
        "    break\n",
        "  elif user_num > target_num:\n",
        "    print(f\"Вы ввели {user_num} - оно больше загаданного числа\")\n",
        "  else:\n",
        "    print(f\"Вы ввели {user_num} - оно меньше загаданного числа\")\n",
        "\n",
        "print(\"Игра закончилась\")\n"
      ]
    },
    {
      "cell_type": "code",
      "source": [],
      "metadata": {
        "id": "QtVjOadXAvZS"
      },
      "execution_count": null,
      "outputs": []
    }
  ]
}