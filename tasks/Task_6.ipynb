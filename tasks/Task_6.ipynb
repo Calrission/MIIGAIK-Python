{
  "nbformat": 4,
  "nbformat_minor": 0,
  "metadata": {
    "colab": {
      "provenance": [],
      "authorship_tag": "ABX9TyNFxbx6AjSdGS7VjSwpnP5j",
      "include_colab_link": true
    },
    "kernelspec": {
      "name": "python3",
      "display_name": "Python 3"
    },
    "language_info": {
      "name": "python"
    }
  },
  "cells": [
    {
      "cell_type": "markdown",
      "metadata": {
        "id": "view-in-github",
        "colab_type": "text"
      },
      "source": [
        "<a href=\"https://colab.research.google.com/github/Calrission/MIIGAIK-Python/blob/master/tasks/Task_6.ipynb\" target=\"_parent\"><img src=\"https://colab.research.google.com/assets/colab-badge.svg\" alt=\"Open In Colab\"/></a>"
      ]
    },
    {
      "cell_type": "code",
      "execution_count": 3,
      "metadata": {
        "colab": {
          "base_uri": "https://localhost:8080/"
        },
        "id": "CBv4Q2HwYm4F",
        "outputId": "848a398d-9043-4ab3-b7b3-320cb2710832"
      },
      "outputs": [
        {
          "output_type": "stream",
          "name": "stdout",
          "text": [
            "3900\n",
            "1 65\n"
          ]
        }
      ],
      "source": [
        "N = int(input())\n",
        "all_minutes = N // 60\n",
        "hours = all_minutes // 60\n",
        "print(f\"{hours} {all_minutes}\")"
      ]
    }
  ]
}