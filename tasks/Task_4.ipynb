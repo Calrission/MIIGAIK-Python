{
  "nbformat": 4,
  "nbformat_minor": 0,
  "metadata": {
    "colab": {
      "provenance": [],
      "authorship_tag": "ABX9TyM81yuTDoS8bOl+/M8ibWdz",
      "include_colab_link": true
    },
    "kernelspec": {
      "name": "python3",
      "display_name": "Python 3"
    },
    "language_info": {
      "name": "python"
    }
  },
  "cells": [
    {
      "cell_type": "markdown",
      "metadata": {
        "id": "view-in-github",
        "colab_type": "text"
      },
      "source": [
        "<a href=\"https://colab.research.google.com/github/Calrission/MIIGAIK-Python/blob/master/tasks/Task_4.ipynb\" target=\"_parent\"><img src=\"https://colab.research.google.com/assets/colab-badge.svg\" alt=\"Open In Colab\"/></a>"
      ]
    },
    {
      "cell_type": "code",
      "execution_count": 1,
      "metadata": {
        "colab": {
          "base_uri": "https://localhost:8080/"
        },
        "id": "4iPrtTthVUIl",
        "outputId": "06cc7088-169c-4395-bad8-0478f5f786a1"
      },
      "outputs": [
        {
          "output_type": "stream",
          "name": "stdout",
          "text": [
            "179\n",
            "Следующее число для числа 179: 180\n",
            "Предыдущее число для числа 179: 178\n"
          ]
        }
      ],
      "source": [
        "num = int(input())\n",
        "print(f\"Следующее число для числа {num}: {num+1}\")\n",
        "print(f\"Предыдущее число для числа {num}: {num-1}\")"
      ]
    }
  ]
}