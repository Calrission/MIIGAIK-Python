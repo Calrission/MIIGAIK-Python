{
  "nbformat": 4,
  "nbformat_minor": 0,
  "metadata": {
    "colab": {
      "provenance": [],
      "authorship_tag": "ABX9TyM5HJYxGVqFCFf4OEg0eO67",
      "include_colab_link": true
    },
    "kernelspec": {
      "name": "python3",
      "display_name": "Python 3"
    },
    "language_info": {
      "name": "python"
    }
  },
  "cells": [
    {
      "cell_type": "markdown",
      "metadata": {
        "id": "view-in-github",
        "colab_type": "text"
      },
      "source": [
        "<a href=\"https://colab.research.google.com/github/Calrission/MIIGAIK-Python/blob/master/tasks/Task_7.ipynb\" target=\"_parent\"><img src=\"https://colab.research.google.com/assets/colab-badge.svg\" alt=\"Open In Colab\"/></a>"
      ]
    },
    {
      "cell_type": "code",
      "execution_count": 3,
      "metadata": {
        "colab": {
          "base_uri": "https://localhost:8080/"
        },
        "id": "TZ5lm-YrbVel",
        "outputId": "2eddc28b-7d76-41cb-e85e-530301371b93"
      },
      "outputs": [
        {
          "output_type": "stream",
          "name": "stdout",
          "text": [
            "1\n",
            "2\n",
            "30\n",
            "1\n",
            "3\n",
            "20\n",
            "50\n"
          ]
        }
      ],
      "source": [
        "hours_1 = int(input())\n",
        "minutes_1 = int(input())\n",
        "seconds_1 = int(input())\n",
        "\n",
        "hours_2 = int(input())\n",
        "minutes_2 = int(input())\n",
        "seconds_2 = int(input())\n",
        "\n",
        "print((hours_2 - hours_1) * 3600 + (minutes_2 - minutes_1) * 60 + seconds_2 - seconds_1)"
      ]
    }
  ]
}